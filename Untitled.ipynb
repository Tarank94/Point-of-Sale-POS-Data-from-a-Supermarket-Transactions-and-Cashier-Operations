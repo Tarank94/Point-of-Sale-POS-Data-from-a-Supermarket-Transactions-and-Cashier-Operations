{
 "cells": [
  {
   "cell_type": "code",
   "execution_count": 2,
   "id": "8a3ec8f4",
   "metadata": {},
   "outputs": [
    {
     "name": "stdout",
     "output_type": "stream",
     "text": [
      "Average transaction time for service checkout: 63.43 seconds\n",
      "Average transaction time for self-service checkout: 100.89 seconds\n"
     ]
    }
   ],
   "source": [
    "import pandas as pd;\n",
    "from datetime import datetime;\n",
    "operatorData = pd.read_csv(\"POS_operator_logs_merged.csv\")\n",
    "transactionData = pd.read_csv(\"POS_transactions_merged.csv\")\n",
    "\n",
    "mergedData = pd.merge(transactionData, operatorData,how='outer')\n",
    "serviceData = mergedData[mergedData['WorkstationGroupID'] == 1]\n",
    "selfServiceData = mergedData[mergedData['WorkstationGroupID'] == 8]\n",
    "\n",
    "\n",
    "#serviceData['TransactionTime'] = pd.to_datetime(serviceData['BeginDateTime']) - pd.to_datetime(serviceData['EndDateTime'])\n",
    "#selfServiceData['TransactionTime'] = pd.to_datetime(selfServiceData['BeginDateTime']) - pd.to_datetime(selfServiceData['EndDateTime'])\n",
    "\n",
    "serviceAvgTime = serviceData['TranTime'].mean()\n",
    "selfServiceAvgTime = selfServiceData['TranTime'].mean()\n",
    "\n",
    "# Print results\n",
    "print(\"Average transaction time for service checkout: {:.2f} seconds\".format(serviceAvgTime))\n",
    "print(\"Average transaction time for self-service checkout: {:.2f} seconds\".format(selfServiceAvgTime))"
   ]
  },
  {
   "cell_type": "code",
   "execution_count": 3,
   "id": "fc611b9b",
   "metadata": {},
   "outputs": [
    {
     "name": "stdout",
     "output_type": "stream",
     "text": [
      "       WorkstationGroupID           TranID        BeginDateTime  \\\n",
      "0                       1  171207106022464  2017-12-07T14:23:23   \n",
      "1                       1  171207106022465  2017-12-07T14:25:09   \n",
      "2                       1  171207106022466  2017-12-07T14:27:28   \n",
      "3                       1  171207106022467  2017-12-07T14:28:04   \n",
      "4                       1  171207106022468  2017-12-07T14:29:40   \n",
      "...                   ...              ...                  ...   \n",
      "177373                  1   19041010603798  2019-04-10T21:53:58   \n",
      "177374                  1  190410106041042  2019-04-10T21:54:30   \n",
      "177375                  1  190410106041044  2019-04-10T21:55:05   \n",
      "177376                  1   19041010605515  2019-04-10T22:00:25   \n",
      "177377                  1  190410106041061  2019-04-10T22:10:57   \n",
      "\n",
      "                EndDateTime OperatorID TranTime BreakTime ArtNum TNcash  \\\n",
      "0       2017-12-07T14:24:36        101       73        33     23   True   \n",
      "1       2017-12-07T14:27:00        101      111        28     29   True   \n",
      "2       2017-12-07T14:27:48        101       20        16      3   True   \n",
      "3       2017-12-07T14:28:29        101       25        71     12   True   \n",
      "4       2017-12-07T14:30:32        101       52        31      7   True   \n",
      "...                     ...        ...      ...       ...    ...    ...   \n",
      "177373                  NaN        104      NaN       NaN    NaN    NaN   \n",
      "177374                  NaN        304      NaN       NaN    NaN    NaN   \n",
      "177375                  NaN        104      NaN       NaN    NaN    NaN   \n",
      "177376                  NaN        136      NaN       NaN    NaN    NaN   \n",
      "177377                  NaN        104      NaN       NaN    NaN    NaN   \n",
      "\n",
      "       TNcard  Amount WorkstationID            Items  \n",
      "0       False  112.71           NaN              NaN  \n",
      "1       False   54.76           NaN              NaN  \n",
      "2       False   14.77           NaN              NaN  \n",
      "3       False   37.88           NaN              NaN  \n",
      "4       False  115.34           NaN              NaN  \n",
      "...       ...     ...           ...              ...  \n",
      "177373    NaN     NaN             3  OperatorSignOff  \n",
      "177374    NaN     NaN             4  OperatorSignOff  \n",
      "177375    NaN     NaN             4   OperatorSignOn  \n",
      "177376    NaN     NaN             5  OperatorSignOff  \n",
      "177377    NaN     NaN             4  OperatorSignOff  \n",
      "\n",
      "[177378 rows x 13 columns]\n"
     ]
    }
   ],
   "source": [
    "print(mergedData)"
   ]
  }
 ],
 "metadata": {
  "kernelspec": {
   "display_name": "Python 3 (ipykernel)",
   "language": "python",
   "name": "python3"
  },
  "language_info": {
   "codemirror_mode": {
    "name": "ipython",
    "version": 3
   },
   "file_extension": ".py",
   "mimetype": "text/x-python",
   "name": "python",
   "nbconvert_exporter": "python",
   "pygments_lexer": "ipython3",
   "version": "3.9.7"
  }
 },
 "nbformat": 4,
 "nbformat_minor": 5
}
